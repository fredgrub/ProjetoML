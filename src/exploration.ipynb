{
 "cells": [
  {
   "cell_type": "markdown",
   "metadata": {},
   "source": [
    "# Exploring the data\n",
    "The data is divided into two main groups: `root_games.csv` and `tail_games[1-4].csv`. For our analysis, we can merge both groups into a larger dataset. This dataset will contain 1518 features, so to select the most important features we need to analyse our data."
   ]
  },
  {
   "cell_type": "markdown",
   "metadata": {},
   "source": [
    "How to view all features and select the best ones? The dataset author suggests exploring the JSON file using tools like [json formatter](https://jsonformatter.curiousconcept.com/) to inspect the `dummy_league_match.json` file. Below we list the selected features based on JSON file.\n",
    "1. Every feature from \"**teams**\" field (e.g., teamID, win or lose, first blood, first tower, etc.).\n",
    "2. Participant related features (\"**participants**\" field) such as number of kills, deaths, assists; [vision score](https://leagueoflegends.fandom.com/wiki/Vision_score); and timeline information such as creeps per minute, xp per minute, etc.\n",
    "\n",
    "With this in mind, how can we extract this information from the dataset?"
   ]
  },
  {
   "cell_type": "markdown",
   "metadata": {},
   "source": [
    "# Extracting the information"
   ]
  },
  {
   "cell_type": "code",
   "execution_count": 2,
   "metadata": {},
   "outputs": [],
   "source": [
    "import pandas as pd\n",
    "import numpy as np\n",
    "import matplotlib.pyplot as plt\n",
    "\n",
    "%matplotlib inline"
   ]
  },
  {
   "cell_type": "code",
   "execution_count": 3,
   "metadata": {},
   "outputs": [],
   "source": [
    "team_fields = [\n",
    "    # Blue team\n",
    "    'teamId_100.win', 'teamId_100.firstBlood', 'teamId_100.firstTower', 'teamId_100.firstInhibitor',\n",
    "    'teamId_100.firstBaron', 'teamId_100.firstDragon', 'teamId_100.firstRiftHerald', 'teamId_100.towerKills',\n",
    "    'teamId_100.inhibitorKills', 'teamId_100.baronKills', 'teamId_100.dragonKills', 'teamId_100.riftHeraldKills',\n",
    "    # Red team\n",
    "    'teamId_200.win', 'teamId_200.firstBlood', 'teamId_200.firstTower', 'teamId_200.firstInhibitor',\n",
    "    'teamId_200.firstBaron', 'teamId_200.firstDragon', 'teamId_200.firstRiftHerald', 'teamId_200.towerKills',\n",
    "    'teamId_200.inhibitorKills', 'teamId_200.baronKills', 'teamId_200.dragonKills', 'teamId_200.riftHeraldKills',\n",
    "]\n",
    "\n",
    "participant_fields = [\n",
    "    # teamId\n",
    "    'participant1.teamId', 'participant2.teamId', 'participant3.teamId', 'participant4.teamId',\n",
    "    'participant5.teamId', 'participant6.teamId', 'participant7.teamId', 'participant8.teamId',\n",
    "    'participant9.teamId', 'participant10.teamId',\n",
    "    # Kill, death, assists\n",
    "    'participant1.stats.kills', 'participant1.stats.deaths', 'participant1.stats.assists',\n",
    "    'participant2.stats.kills', 'participant2.stats.deaths', 'participant2.stats.assists',\n",
    "    'participant3.stats.kills', 'participant3.stats.deaths', 'participant3.stats.assists',\n",
    "    'participant4.stats.kills', 'participant4.stats.deaths', 'participant4.stats.assists',\n",
    "    'participant5.stats.kills', 'participant5.stats.deaths', 'participant5.stats.assists',\n",
    "    'participant6.stats.kills', 'participant6.stats.deaths', 'participant6.stats.assists',\n",
    "    'participant7.stats.kills', 'participant7.stats.deaths', 'participant7.stats.assists',\n",
    "    'participant8.stats.kills', 'participant8.stats.deaths', 'participant8.stats.assists',\n",
    "    'participant9.stats.kills', 'participant9.stats.deaths', 'participant9.stats.assists',\n",
    "    'participant10.stats.kills', 'participant10.stats.deaths', 'participant10.stats.assists',\n",
    "    # Vision score\n",
    "    'participant1.stats.visionScore', 'participant2.stats.visionScore', 'participant3.stats.visionScore',\n",
    "    'participant4.stats.visionScore', 'participant5.stats.visionScore', 'participant6.stats.visionScore',\n",
    "    'participant7.stats.visionScore', 'participant8.stats.visionScore', 'participant9.stats.visionScore',\n",
    "    'participant10.stats.visionScore',\n",
    "    # Lane phase farm\n",
    "    'participant1.timeline.creepsPerMinDeltas.0-10', 'participant2.timeline.creepsPerMinDeltas.0-10',\n",
    "    'participant3.timeline.creepsPerMinDeltas.0-10', 'participant4.timeline.creepsPerMinDeltas.0-10',\n",
    "    'participant5.timeline.creepsPerMinDeltas.0-10', 'participant6.timeline.creepsPerMinDeltas.0-10',\n",
    "    'participant7.timeline.creepsPerMinDeltas.0-10', 'participant8.timeline.creepsPerMinDeltas.0-10',\n",
    "    'participant9.timeline.creepsPerMinDeltas.0-10', 'participant10.timeline.creepsPerMinDeltas.0-10',\n",
    "    # Lane phase capitalized gold\n",
    "    'participant1.timeline.goldPerMinDeltas.0-10', 'participant2.timeline.goldPerMinDeltas.0-10',\n",
    "    'participant3.timeline.goldPerMinDeltas.0-10', 'participant4.timeline.goldPerMinDeltas.0-10',\n",
    "    'participant5.timeline.goldPerMinDeltas.0-10', 'participant6.timeline.goldPerMinDeltas.0-10',\n",
    "    'participant7.timeline.goldPerMinDeltas.0-10', 'participant8.timeline.goldPerMinDeltas.0-10',\n",
    "    'participant9.timeline.goldPerMinDeltas.0-10', 'participant10.timeline.goldPerMinDeltas.0-10',\n",
    "    # Crowd control time\n",
    "    'participant1.stats.timeCCingOthers', 'participant2.stats.timeCCingOthers',\n",
    "    'participant3.stats.timeCCingOthers', 'participant4.stats.timeCCingOthers',\n",
    "    'participant5.stats.timeCCingOthers', 'participant6.stats.timeCCingOthers',\n",
    "    'participant7.stats.timeCCingOthers', 'participant8.stats.timeCCingOthers',\n",
    "    'participant9.stats.timeCCingOthers', 'participant10.stats.timeCCingOthers',\n",
    "]\n",
    "\n",
    "merged_fields = team_fields + participant_fields"
   ]
  },
  {
   "cell_type": "code",
   "execution_count": 4,
   "metadata": {},
   "outputs": [
    {
     "name": "stdout",
     "output_type": "stream",
     "text": [
      "<class 'pandas.core.frame.DataFrame'>\n",
      "RangeIndex: 1087 entries, 0 to 1086\n",
      "Columns: 104 entries, participant1.teamId to teamId_200.riftHeraldKills\n",
      "dtypes: bool(12), float64(20), int64(70), object(2)\n",
      "memory usage: 794.1+ KB\n"
     ]
    }
   ],
   "source": [
    "root_games = pd.read_csv(\"../DATA/root_games.csv\", usecols=merged_fields)\n",
    "root_games.info()"
   ]
  },
  {
   "cell_type": "markdown",
   "metadata": {},
   "source": [
    "# Manipulating the dataframe\n",
    "Now we need to manipulate the dataframe. First we need to remove the null values (from timeline events). We can remove them because they are matches that ended before 10 minutes and, therefore, due to surrender by one of the teams. We also need to prepare the dataset for the modeling process. "
   ]
  },
  {
   "cell_type": "code",
   "execution_count": 5,
   "metadata": {},
   "outputs": [
    {
     "name": "stdout",
     "output_type": "stream",
     "text": [
      "<class 'pandas.core.frame.DataFrame'>\n",
      "Int64Index: 16414 entries, 0 to 1413\n",
      "Columns: 104 entries, participant1.teamId to teamId_200.riftHeraldKills\n",
      "dtypes: bool(12), float64(20), int64(70), object(2)\n",
      "memory usage: 11.8+ MB\n"
     ]
    }
   ],
   "source": [
    "# Open the files as dataframes\n",
    "tail_games1 = pd.read_csv(\"../DATA/tail_games1.csv\", usecols=merged_fields)\n",
    "tail_games2 = pd.read_csv(\"../DATA/tail_games2.csv\", usecols=merged_fields)\n",
    "tail_games3 = pd.read_csv(\"../DATA/tail_games3.csv\", usecols=merged_fields)\n",
    "tail_games4 = pd.read_csv(\"../DATA/tail_games4.csv\", usecols=merged_fields)\n",
    "\n",
    "# Merge all dataframes into one\n",
    "tail_games = pd.concat([tail_games1, tail_games2, tail_games3, tail_games4])\n",
    "tail_games.info()"
   ]
  },
  {
   "cell_type": "markdown",
   "metadata": {},
   "source": [
    "## Dealing with null values"
   ]
  },
  {
   "cell_type": "code",
   "execution_count": 6,
   "metadata": {},
   "outputs": [],
   "source": [
    "tail_games.dropna(inplace=True)"
   ]
  },
  {
   "cell_type": "code",
   "execution_count": 7,
   "metadata": {},
   "outputs": [
    {
     "name": "stdout",
     "output_type": "stream",
     "text": [
      "<class 'pandas.core.frame.DataFrame'>\n",
      "Int64Index: 16272 entries, 0 to 1413\n",
      "Columns: 104 entries, participant1.teamId to teamId_200.riftHeraldKills\n",
      "dtypes: bool(12), float64(20), int64(70), object(2)\n",
      "memory usage: 11.7+ MB\n"
     ]
    }
   ],
   "source": [
    "tail_games.info()"
   ]
  },
  {
   "cell_type": "markdown",
   "metadata": {},
   "source": [
    "## Converting boolean values to integer values\n",
    "Some columns are specified as booleans (e.g., `teamId_100.firstBaron`). In addition, the matches outcome is identified by \"Win\" or \"Fail\". So, we need to convert all this data into dummy integers, that is, zeros and ones."
   ]
  },
  {
   "cell_type": "code",
   "execution_count": 8,
   "metadata": {},
   "outputs": [
    {
     "data": {
      "text/html": [
       "<div>\n",
       "<style scoped>\n",
       "    .dataframe tbody tr th:only-of-type {\n",
       "        vertical-align: middle;\n",
       "    }\n",
       "\n",
       "    .dataframe tbody tr th {\n",
       "        vertical-align: top;\n",
       "    }\n",
       "\n",
       "    .dataframe thead th {\n",
       "        text-align: right;\n",
       "    }\n",
       "</style>\n",
       "<table border=\"1\" class=\"dataframe\">\n",
       "  <thead>\n",
       "    <tr style=\"text-align: right;\">\n",
       "      <th></th>\n",
       "      <th>teamId_100.win</th>\n",
       "      <th>teamId_200.win</th>\n",
       "    </tr>\n",
       "  </thead>\n",
       "  <tbody>\n",
       "    <tr>\n",
       "      <th>0</th>\n",
       "      <td>1</td>\n",
       "      <td>0</td>\n",
       "    </tr>\n",
       "    <tr>\n",
       "      <th>1</th>\n",
       "      <td>0</td>\n",
       "      <td>1</td>\n",
       "    </tr>\n",
       "    <tr>\n",
       "      <th>2</th>\n",
       "      <td>1</td>\n",
       "      <td>0</td>\n",
       "    </tr>\n",
       "    <tr>\n",
       "      <th>3</th>\n",
       "      <td>0</td>\n",
       "      <td>1</td>\n",
       "    </tr>\n",
       "    <tr>\n",
       "      <th>4</th>\n",
       "      <td>0</td>\n",
       "      <td>1</td>\n",
       "    </tr>\n",
       "    <tr>\n",
       "      <th>...</th>\n",
       "      <td>...</td>\n",
       "      <td>...</td>\n",
       "    </tr>\n",
       "    <tr>\n",
       "      <th>1409</th>\n",
       "      <td>0</td>\n",
       "      <td>1</td>\n",
       "    </tr>\n",
       "    <tr>\n",
       "      <th>1410</th>\n",
       "      <td>1</td>\n",
       "      <td>0</td>\n",
       "    </tr>\n",
       "    <tr>\n",
       "      <th>1411</th>\n",
       "      <td>1</td>\n",
       "      <td>0</td>\n",
       "    </tr>\n",
       "    <tr>\n",
       "      <th>1412</th>\n",
       "      <td>0</td>\n",
       "      <td>1</td>\n",
       "    </tr>\n",
       "    <tr>\n",
       "      <th>1413</th>\n",
       "      <td>0</td>\n",
       "      <td>1</td>\n",
       "    </tr>\n",
       "  </tbody>\n",
       "</table>\n",
       "<p>16272 rows × 2 columns</p>\n",
       "</div>"
      ],
      "text/plain": [
       "      teamId_100.win  teamId_200.win\n",
       "0                  1               0\n",
       "1                  0               1\n",
       "2                  1               0\n",
       "3                  0               1\n",
       "4                  0               1\n",
       "...              ...             ...\n",
       "1409               0               1\n",
       "1410               1               0\n",
       "1411               1               0\n",
       "1412               0               1\n",
       "1413               0               1\n",
       "\n",
       "[16272 rows x 2 columns]"
      ]
     },
     "execution_count": 8,
     "metadata": {},
     "output_type": "execute_result"
    }
   ],
   "source": [
    "tail_games['teamId_100.win'] = tail_games['teamId_100.win'].map({'Win': 1, 'Fail': 0})\n",
    "tail_games['teamId_200.win'] = tail_games['teamId_200.win'].map({'Win': 1, 'Fail': 0})\n",
    "tail_games[['teamId_100.win', 'teamId_200.win']]"
   ]
  },
  {
   "cell_type": "code",
   "execution_count": 9,
   "metadata": {},
   "outputs": [],
   "source": [
    "tail_games.replace([True, False], [1, 0], inplace=True)"
   ]
  },
  {
   "cell_type": "code",
   "execution_count": 10,
   "metadata": {},
   "outputs": [
    {
     "name": "stdout",
     "output_type": "stream",
     "text": [
      "<class 'pandas.core.frame.DataFrame'>\n",
      "Int64Index: 16272 entries, 0 to 1413\n",
      "Columns: 104 entries, participant1.teamId to teamId_200.riftHeraldKills\n",
      "dtypes: float64(20), int64(84)\n",
      "memory usage: 13.0 MB\n"
     ]
    }
   ],
   "source": [
    "tail_games.info()"
   ]
  },
  {
   "cell_type": "markdown",
   "metadata": {},
   "source": [
    "# Preparation for the final dataset"
   ]
  },
  {
   "cell_type": "markdown",
   "metadata": {},
   "source": [
    "## Creating explainable features"
   ]
  },
  {
   "cell_type": "code",
   "execution_count": 11,
   "metadata": {},
   "outputs": [],
   "source": [
    "blue_kills = [\n",
    "    'participant1.stats.kills', 'participant2.stats.kills',\n",
    "    'participant3.stats.kills', 'participant4.stats.kills',\n",
    "    'participant5.stats.kills'\n",
    "]\n",
    "red_kills = [\n",
    "    'participant6.stats.kills', 'participant7.stats.kills',\n",
    "    'participant8.stats.kills', 'participant9.stats.kills',\n",
    "    'participant10.stats.kills'\n",
    "]\n",
    "\n",
    "blue_deaths = [\n",
    "    'participant1.stats.deaths', 'participant2.stats.deaths',\n",
    "    'participant3.stats.deaths', 'participant4.stats.deaths',\n",
    "    'participant5.stats.deaths'\n",
    "]\n",
    "red_deaths = [\n",
    "    'participant6.stats.deaths', 'participant7.stats.deaths',\n",
    "    'participant8.stats.deaths', 'participant9.stats.deaths',\n",
    "    'participant10.stats.deaths'\n",
    "]\n",
    "\n",
    "blue_assists = [\n",
    "    'participant1.stats.assists', 'participant2.stats.assists',\n",
    "    'participant3.stats.assists', 'participant4.stats.assists',\n",
    "    'participant5.stats.assists'\n",
    "]\n",
    "red_assists = [\n",
    "    'participant6.stats.assists', 'participant7.stats.assists',\n",
    "    'participant8.stats.assists', 'participant9.stats.assists',\n",
    "    'participant10.stats.assists'\n",
    "]\n",
    "\n",
    "blue_vision_score = [\n",
    "    'participant1.stats.visionScore', 'participant2.stats.visionScore',\n",
    "    'participant3.stats.visionScore', 'participant4.stats.visionScore',\n",
    "    'participant5.stats.visionScore'\n",
    "]\n",
    "red_vision_score = [\n",
    "    'participant6.stats.visionScore', 'participant7.stats.visionScore',\n",
    "    'participant8.stats.visionScore', 'participant9.stats.visionScore',\n",
    "    'participant10.stats.visionScore'\n",
    "]\n",
    "\n",
    "blue_cs_perMin = [\n",
    "    'participant1.timeline.creepsPerMinDeltas.0-10', 'participant2.timeline.creepsPerMinDeltas.0-10',\n",
    "    'participant3.timeline.creepsPerMinDeltas.0-10', 'participant4.timeline.creepsPerMinDeltas.0-10',\n",
    "    'participant5.timeline.creepsPerMinDeltas.0-10'\n",
    "]\n",
    "red_cs_perMin = [\n",
    "    'participant6.timeline.creepsPerMinDeltas.0-10', 'participant7.timeline.creepsPerMinDeltas.0-10',\n",
    "    'participant8.timeline.creepsPerMinDeltas.0-10', 'participant9.timeline.creepsPerMinDeltas.0-10',\n",
    "    'participant10.timeline.creepsPerMinDeltas.0-10'\n",
    "]\n",
    "\n",
    "blue_gold_perMin = [\n",
    "    'participant1.timeline.goldPerMinDeltas.0-10', 'participant2.timeline.goldPerMinDeltas.0-10',\n",
    "    'participant3.timeline.goldPerMinDeltas.0-10', 'participant4.timeline.goldPerMinDeltas.0-10',\n",
    "    'participant5.timeline.goldPerMinDeltas.0-10'\n",
    "]\n",
    "red_gold_perMin = [\n",
    "    'participant6.timeline.goldPerMinDeltas.0-10', 'participant7.timeline.goldPerMinDeltas.0-10',\n",
    "    'participant8.timeline.goldPerMinDeltas.0-10', 'participant9.timeline.goldPerMinDeltas.0-10',\n",
    "    'participant10.timeline.goldPerMinDeltas.0-10'\n",
    "]\n",
    "\n",
    "blue_cc_time = [\n",
    "    'participant1.stats.timeCCingOthers', 'participant2.stats.timeCCingOthers',\n",
    "    'participant3.stats.timeCCingOthers', 'participant4.stats.timeCCingOthers',\n",
    "    'participant5.stats.timeCCingOthers'\n",
    "]\n",
    "red_cc_time = [\n",
    "    'participant6.stats.timeCCingOthers', 'participant7.stats.timeCCingOthers',\n",
    "    'participant8.stats.timeCCingOthers', 'participant9.stats.timeCCingOthers',\n",
    "    'participant10.stats.timeCCingOthers'\n",
    "]"
   ]
  },
  {
   "cell_type": "code",
   "execution_count": 12,
   "metadata": {},
   "outputs": [],
   "source": [
    "tail_games['teamId_100.kills'] = tail_games[blue_kills].sum(axis=1)\n",
    "tail_games['teamId_200.kills'] = tail_games[red_kills].sum(axis=1)\n",
    "\n",
    "tail_games['teamId_100.deaths'] = tail_games[blue_deaths].sum(axis=1)\n",
    "tail_games['teamId_200.deaths'] = tail_games[red_deaths].sum(axis=1)\n",
    "\n",
    "tail_games['teamId_100.assists'] = tail_games[blue_assists].sum(axis=1)\n",
    "tail_games['teamId_200.assists'] = tail_games[red_assists].sum(axis=1)\n",
    "\n",
    "tail_games['teamId_100.visionScore'] = tail_games[blue_vision_score].sum(axis=1)\n",
    "tail_games['teamId_200.visionScore'] = tail_games[red_vision_score].sum(axis=1)\n",
    "\n",
    "tail_games['teamId_100.csPerMin'] = tail_games[blue_cs_perMin].sum(axis=1)\n",
    "tail_games['teamId_200.csPerMin'] = tail_games[red_cs_perMin].sum(axis=1)\n",
    "\n",
    "tail_games['teamId_100.goldPerMin'] = tail_games[blue_gold_perMin].sum(axis=1)\n",
    "tail_games['teamId_200.goldPerMin'] = tail_games[red_gold_perMin].sum(axis=1)\n",
    "\n",
    "tail_games['teamId_100.crowdControlTime'] = tail_games[blue_cc_time].sum(axis=1)\n",
    "tail_games['teamId_200.crowdControlTime'] = tail_games[red_cc_time].sum(axis=1)"
   ]
  },
  {
   "cell_type": "code",
   "execution_count": 13,
   "metadata": {},
   "outputs": [],
   "source": [
    "teamId = [\n",
    "        'participant1.teamId', 'participant2.teamId', 'participant3.teamId',\n",
    "        'participant4.teamId', 'participant5.teamId', 'participant6.teamId',\n",
    "        'participant7.teamId', 'participant8.teamId', 'participant9.teamId',\n",
    "        'participant10.teamId'\n",
    "        ]\n",
    "columns_to_drop = blue_kills + red_kills + blue_deaths + red_deaths + \\\n",
    "     blue_assists + red_assists + blue_vision_score + red_vision_score + \\\n",
    "        blue_cs_perMin + red_cs_perMin + blue_gold_perMin + red_gold_perMin + \\\n",
    "                blue_cc_time + red_cc_time + teamId\n",
    "tail_games.drop(columns_to_drop, axis=1, inplace=True)"
   ]
  },
  {
   "cell_type": "markdown",
   "metadata": {},
   "source": [
    "## Rename all features"
   ]
  },
  {
   "cell_type": "code",
   "execution_count": 14,
   "metadata": {},
   "outputs": [],
   "source": [
    "new_column_names = tail_games.columns.str.replace(\"teamId_100\", \"blue\", regex=True).str.replace(\"teamId_200\", \"red\", regex=True)\n",
    "tail_games.columns = new_column_names"
   ]
  },
  {
   "cell_type": "code",
   "execution_count": 15,
   "metadata": {},
   "outputs": [
    {
     "name": "stdout",
     "output_type": "stream",
     "text": [
      "<class 'pandas.core.frame.DataFrame'>\n",
      "Int64Index: 16272 entries, 0 to 1413\n",
      "Data columns (total 38 columns):\n",
      " #   Column                 Non-Null Count  Dtype  \n",
      "---  ------                 --------------  -----  \n",
      " 0   blue.win               16272 non-null  int64  \n",
      " 1   blue.firstBlood        16272 non-null  int64  \n",
      " 2   blue.firstTower        16272 non-null  int64  \n",
      " 3   blue.firstInhibitor    16272 non-null  int64  \n",
      " 4   blue.firstBaron        16272 non-null  int64  \n",
      " 5   blue.firstDragon       16272 non-null  int64  \n",
      " 6   blue.firstRiftHerald   16272 non-null  int64  \n",
      " 7   blue.towerKills        16272 non-null  int64  \n",
      " 8   blue.inhibitorKills    16272 non-null  int64  \n",
      " 9   blue.baronKills        16272 non-null  int64  \n",
      " 10  blue.dragonKills       16272 non-null  int64  \n",
      " 11  blue.riftHeraldKills   16272 non-null  int64  \n",
      " 12  red.win                16272 non-null  int64  \n",
      " 13  red.firstBlood         16272 non-null  int64  \n",
      " 14  red.firstTower         16272 non-null  int64  \n",
      " 15  red.firstInhibitor     16272 non-null  int64  \n",
      " 16  red.firstBaron         16272 non-null  int64  \n",
      " 17  red.firstDragon        16272 non-null  int64  \n",
      " 18  red.firstRiftHerald    16272 non-null  int64  \n",
      " 19  red.towerKills         16272 non-null  int64  \n",
      " 20  red.inhibitorKills     16272 non-null  int64  \n",
      " 21  red.baronKills         16272 non-null  int64  \n",
      " 22  red.dragonKills        16272 non-null  int64  \n",
      " 23  red.riftHeraldKills    16272 non-null  int64  \n",
      " 24  blue.kills             16272 non-null  int64  \n",
      " 25  red.kills              16272 non-null  int64  \n",
      " 26  blue.deaths            16272 non-null  int64  \n",
      " 27  red.deaths             16272 non-null  int64  \n",
      " 28  blue.assists           16272 non-null  int64  \n",
      " 29  red.assists            16272 non-null  int64  \n",
      " 30  blue.visionScore       16272 non-null  int64  \n",
      " 31  red.visionScore        16272 non-null  int64  \n",
      " 32  blue.csPerMin          16272 non-null  float64\n",
      " 33  red.csPerMin           16272 non-null  float64\n",
      " 34  blue.goldPerMin        16272 non-null  float64\n",
      " 35  red.goldPerMin         16272 non-null  float64\n",
      " 36  blue.crowdControlTime  16272 non-null  int64  \n",
      " 37  red.crowdControlTime   16272 non-null  int64  \n",
      "dtypes: float64(4), int64(34)\n",
      "memory usage: 4.8 MB\n"
     ]
    }
   ],
   "source": [
    "tail_games.info()"
   ]
  },
  {
   "cell_type": "markdown",
   "metadata": {},
   "source": [
    "# Exporting as CSV file"
   ]
  },
  {
   "cell_type": "code",
   "execution_count": 16,
   "metadata": {},
   "outputs": [],
   "source": [
    "tail_games.to_csv('../DATA/league_games.csv')"
   ]
  }
 ],
 "metadata": {
  "kernelspec": {
   "display_name": "Python 3.10.5 64-bit",
   "language": "python",
   "name": "python3"
  },
  "language_info": {
   "codemirror_mode": {
    "name": "ipython",
    "version": 3
   },
   "file_extension": ".py",
   "mimetype": "text/x-python",
   "name": "python",
   "nbconvert_exporter": "python",
   "pygments_lexer": "ipython3",
   "version": "3.10.5"
  },
  "orig_nbformat": 4,
  "vscode": {
   "interpreter": {
    "hash": "e7370f93d1d0cde622a1f8e1c04877d8463912d04d973331ad4851f04de6915a"
   }
  }
 },
 "nbformat": 4,
 "nbformat_minor": 2
}
