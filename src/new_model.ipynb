{
 "cells": [
  {
   "cell_type": "code",
   "execution_count": 1,
   "metadata": {},
   "outputs": [],
   "source": [
    "import pandas as pd\n",
    "import numpy as np\n",
    "import matplotlib.pyplot as plt\n",
    "import seaborn as sns\n",
    "\n",
    "import warnings\n",
    "warnings.filterwarnings(\"ignore\")\n",
    "\n",
    "%matplotlib inline"
   ]
  },
  {
   "cell_type": "code",
   "execution_count": 2,
   "metadata": {},
   "outputs": [],
   "source": [
    "# Read the data\n",
    "raw_dataset = pd.read_csv(\"../DATA/league_games.csv\")"
   ]
  },
  {
   "cell_type": "markdown",
   "metadata": {},
   "source": [
    "# Alterando o conjunto de dados\n",
    "Como observado no notebook `initial-analysis.ipynb` o modelo _baseline_ apresentou taxa de acerto acima de 98%. Esse resultado sugere que a seleção das features (comparar os dados entre as equipes) não foi boa. Nesse sentido, decidimos remodelar o problema.\n",
    "\n",
    "O novo problema será _com base nos dados relacionados à equipe azul, vamos tentar prever o outcome da partida, ou seja, se a equipe azul ganhou ou não_. Com isso em mente, precisamos remover algumas features do conjunto anterior."
   ]
  },
  {
   "cell_type": "code",
   "execution_count": 3,
   "metadata": {},
   "outputs": [
    {
     "data": {
      "text/plain": [
       "Index(['blue.win', 'blue.firstBlood', 'blue.firstTower', 'blue.firstInhibitor',\n",
       "       'blue.firstBaron', 'blue.firstDragon', 'blue.firstRiftHerald',\n",
       "       'blue.towerKills', 'blue.inhibitorKills', 'blue.baronKills',\n",
       "       'blue.dragonKills', 'blue.riftHeraldKills', 'red.win', 'red.firstBlood',\n",
       "       'red.firstTower', 'red.firstInhibitor', 'red.firstBaron',\n",
       "       'red.firstDragon', 'red.firstRiftHerald', 'red.towerKills',\n",
       "       'red.inhibitorKills', 'red.baronKills', 'red.dragonKills',\n",
       "       'red.riftHeraldKills', 'blue.kills', 'red.kills', 'blue.deaths',\n",
       "       'red.deaths', 'blue.assists', 'red.assists', 'blue.visionScore',\n",
       "       'red.visionScore', 'blue.csPerMin', 'red.csPerMin', 'blue.goldPerMin',\n",
       "       'red.goldPerMin', 'blue.crowdControlTime', 'red.crowdControlTime'],\n",
       "      dtype='object')"
      ]
     },
     "metadata": {},
     "output_type": "display_data"
    }
   ],
   "source": [
    "# Print all columns name\n",
    "display(raw_dataset.columns)"
   ]
  },
  {
   "cell_type": "code",
   "execution_count": 4,
   "metadata": {},
   "outputs": [
    {
     "data": {
      "text/plain": [
       "Index(['blue.win', 'blue.firstBlood', 'blue.firstTower', 'blue.firstInhibitor',\n",
       "       'blue.firstBaron', 'blue.firstDragon', 'blue.firstRiftHerald',\n",
       "       'blue.towerKills', 'blue.inhibitorKills', 'blue.baronKills',\n",
       "       'blue.dragonKills', 'blue.riftHeraldKills', 'blue.kills', 'blue.deaths',\n",
       "       'blue.assists', 'blue.visionScore', 'blue.csPerMin', 'blue.goldPerMin',\n",
       "       'blue.crowdControlTime'],\n",
       "      dtype='object')"
      ]
     },
     "metadata": {},
     "output_type": "display_data"
    }
   ],
   "source": [
    "# Create a new dataset without red team information\n",
    "to_drop = [\n",
    "    'red.win', 'red.firstBlood', 'red.firstTower', 'red.firstInhibitor',\n",
    "    'red.firstBaron', 'red.firstDragon', 'red.firstRiftHerald', 'red.towerKills',\n",
    "    'red.inhibitorKills', 'red.baronKills', 'red.dragonKills', 'red.riftHeraldKills',\n",
    "    'red.kills', 'red.deaths', 'red.assists', 'red.visionScore', 'red.csPerMin',\n",
    "    'red.goldPerMin', 'red.crowdControlTime'\n",
    "]\n",
    "\n",
    "blue_dataset = raw_dataset.copy()\n",
    "blue_dataset.drop(to_drop, axis=1, inplace=True)\n",
    "\n",
    "display(blue_dataset.columns)"
   ]
  },
  {
   "cell_type": "code",
   "execution_count": 5,
   "metadata": {},
   "outputs": [
    {
     "data": {
      "text/plain": [
       "blue.win                   int64\n",
       "blue.firstBlood            int64\n",
       "blue.firstTower            int64\n",
       "blue.firstInhibitor        int64\n",
       "blue.firstBaron            int64\n",
       "blue.firstDragon           int64\n",
       "blue.firstRiftHerald       int64\n",
       "blue.towerKills            int64\n",
       "blue.inhibitorKills        int64\n",
       "blue.baronKills            int64\n",
       "blue.dragonKills           int64\n",
       "blue.riftHeraldKills       int64\n",
       "blue.kills                 int64\n",
       "blue.deaths                int64\n",
       "blue.assists               int64\n",
       "blue.visionScore           int64\n",
       "blue.csPerMin            float64\n",
       "blue.goldPerMin          float64\n",
       "blue.crowdControlTime      int64\n",
       "dtype: object"
      ]
     },
     "metadata": {},
     "output_type": "display_data"
    },
    {
     "data": {
      "text/plain": [
       "(16272, 19)"
      ]
     },
     "metadata": {},
     "output_type": "display_data"
    }
   ],
   "source": [
    "# Print more informations\n",
    "display(blue_dataset.dtypes, blue_dataset.shape)"
   ]
  },
  {
   "cell_type": "markdown",
   "metadata": {},
   "source": [
    "# Planejando a _baseline_\n",
    "O modelo _baseline_ servirá como um \"guia\" para mensurar a qualidade dos modelos mais sofisticados. A _baseline_, nesse caso, poderá nos informar sobre possíveis complexidades desnecessárias.\n",
    "\n",
    "Neste projeto, nossa _baseline_ será definida por uma Regressão Logística. Neste modelo, as probabilidades que descrevem os possíveis resultados de uma única tentativa são modeladas usando uma função logística. A implementação escolhida foi a `LogisticRegression` da biblioteca **scikit-learn**.\n",
    "\n",
    "Inicialmente iremos separar o conjunto `blue_dataset` em dois subconjuntos: treinamento e teste. Esse tipo de procedimento é importante para evitar o problema de _overfitting_. Usando a biblioteca scikit-learn podemos separar aleatoriamente o conjunto principal a partir da função auxiliar `train_test_split`. A separação será feita usando a relação 80/20, ou seja, 80% dos dados serão de treinamento e os 20% restantes serão de teste.\n",
    "\n",
    "Dentro do conjunto de treinamento, podemos utilizar o procedimento de validação. A seleção do conjunto de validação será feita utilizando o método de _cross-validation_ (CV) **stratified k-fold** com 10 _splits_ e 4 repetições (no scikit-learn, `RepeatedStratifiedKFold`). Os parâmetros testados para a Regressão Logística serão:\n",
    "- Com e sem regularização (usando penalidade `l2`);\n",
    "- Inverso do peso da regularização $C$: 0.1, 0.5, 1.0, 10, 100, 1000;\n",
    "\n",
    "Esperamos com todos esses fatores que nossa _baseline_ seja bastante robusta."
   ]
  },
  {
   "cell_type": "code",
   "execution_count": 6,
   "metadata": {},
   "outputs": [],
   "source": [
    "from sklearn.model_selection import train_test_split, GridSearchCV, RepeatedStratifiedKFold\n",
    "from sklearn.metrics import classification_report, plot_confusion_matrix\n",
    "from sklearn.linear_model import LogisticRegression"
   ]
  },
  {
   "cell_type": "code",
   "execution_count": 7,
   "metadata": {},
   "outputs": [],
   "source": [
    "def split_80_20(df):\n",
    "    \"\"\"\n",
    "    Split Dataframe df into random train and test subsets. Using 80/20\n",
    "    division.\n",
    "\n",
    "    Parameters\n",
    "    ----------\n",
    "    df : DataFrame\n",
    "        Dataset to be splitted.\n",
    "    \n",
    "    Returns\n",
    "    -------\n",
    "    X_train : DataFrame\n",
    "        Training dataset.\n",
    "    X_test : DataFrame\n",
    "        Testing dataset.\n",
    "    y_train : Series\n",
    "        Training targets.\n",
    "    y_test : Series\n",
    "        Testing targets.\n",
    "    \"\"\"\n",
    "    # Split dataset into features and target.\n",
    "    target_name = \"blue.win\"\n",
    "    target = df[target_name]\n",
    "    features = df.drop(target_name, 1)\n",
    "\n",
    "    # Split into train and test subsets.\n",
    "    X_train, X_test, y_train, y_test = train_test_split(features, target, test_size=0.2, random_state=42)\n",
    "\n",
    "    return X_train, X_test, y_train, y_test"
   ]
  },
  {
   "cell_type": "code",
   "execution_count": 8,
   "metadata": {},
   "outputs": [
    {
     "name": "stdout",
     "output_type": "stream",
     "text": [
      "==> Training subset:"
     ]
    },
    {
     "data": {
      "text/plain": [
       "(13017, 18)"
      ]
     },
     "metadata": {},
     "output_type": "display_data"
    },
    {
     "data": {
      "text/plain": [
       "(13017,)"
      ]
     },
     "metadata": {},
     "output_type": "display_data"
    },
    {
     "name": "stdout",
     "output_type": "stream",
     "text": [
      "==> Testing subset:"
     ]
    },
    {
     "data": {
      "text/plain": [
       "(3255, 18)"
      ]
     },
     "metadata": {},
     "output_type": "display_data"
    },
    {
     "data": {
      "text/plain": [
       "(3255,)"
      ]
     },
     "metadata": {},
     "output_type": "display_data"
    }
   ],
   "source": [
    "X_train, X_test, y_train, y_test = split_80_20(blue_dataset)\n",
    "print(\"==> Training subset:\", end=\"\")\n",
    "display(X_train.shape, y_train.shape)\n",
    "print(\"==> Testing subset:\", end=\"\")\n",
    "display(X_test.shape, y_test.shape)"
   ]
  },
  {
   "cell_type": "code",
   "execution_count": 9,
   "metadata": {},
   "outputs": [],
   "source": [
    "def _define_baseline():\n",
    "    \"\"\"\n",
    "    Baseline model declaration.\n",
    "\n",
    "    Returns\n",
    "    -------\n",
    "    baseline : classifier object\n",
    "        Baseline it self.\n",
    "    \"\"\"\n",
    "    parameters = {'penalty': ['none', 'l2'], 'C': [0.1, 0.5, 1.0, 10, 100, 1000]}\n",
    "    lr = LogisticRegression(random_state=42)\n",
    "    cv = RepeatedStratifiedKFold(n_splits=10, n_repeats=4, random_state=42)\n",
    "    clf = GridSearchCV(lr, parameters, cv=cv)\n",
    "\n",
    "    return clf\n",
    "\n",
    "def _eval_model(\n",
    "        model, X_train, X_test, y_train, y_test,\n",
    "        params=False, digits_fmt=4):\n",
    "    \"\"\"\n",
    "    Displays evaluation metrics including classification report and\n",
    "    confusion matrix.\n",
    "    \n",
    "    If the argument 'params' is passed, will display a table of the \n",
    "    parameters hyperparameters used in the model.\n",
    "\n",
    "    This function is associated with `fit_and_evaluate()`. More \n",
    "    information see its description.\n",
    "\n",
    "    Parameters\n",
    "    ----------\n",
    "    digits_fmt : int\n",
    "        Number of digits for formatting output floating point values.\n",
    "    \"\"\"\n",
    "    # Get predictions.\n",
    "    y_predict_train = model.predict(X_train)\n",
    "    y_predict_test = model.predict(X_test)\n",
    "\n",
    "    # Classification report\n",
    "    print(\"=== CLASSIFICATION REPORT - TRAINING DATA ===\")\n",
    "    print(classification_report(y_train, y_predict_train, digits=digits_fmt))\n",
    "\n",
    "    print(\"=== CLASSIFICATION REPORT - TESTING DATA ===\")\n",
    "    print(classification_report(y_test, y_predict_test, digits=digits_fmt))\n",
    "\n",
    "    print(\"=== CONFUSION MATRIX ===\")\n",
    "    fig, ax = plt.subplots(figsize=(5,5))\n",
    "    plot_confusion_matrix(\n",
    "        model, X_test, y_test,\n",
    "        normalize=\"true\",\n",
    "        cmap=\"Purples\",\n",
    "        ax=ax)\n",
    "    ax.set_title(\"Confusion Matrix\")\n",
    "    plt.show()\n",
    "\n",
    "    if params:\n",
    "        print(\"=== MODEL PARAMETERS ===\")\n",
    "        params = pd.DataFrame(pd.Series(model.get_params()))\n",
    "        params.columns[\"parameters\"]\n",
    "        display(params)\n",
    "\n",
    "def fit_and_evaluate(model, X_train, X_test, y_train, y_test, params=False):\n",
    "    \"\"\"\n",
    "    Fits model on training data and displays classification evaluation metrics.\n",
    "\n",
    "    Parameters\n",
    "    ----------\n",
    "    model : classifier object\n",
    "        Type of classificatier model to use.\n",
    "    X_train : DataFrame\n",
    "        Training data with features variables.\n",
    "    X_test : DataFrame\n",
    "        Testing data with features variables.\n",
    "    y_train : Series\n",
    "        Training data with target variable.\n",
    "    y_test : Series\n",
    "        Testing data with target variable.\n",
    "    params : bool\n",
    "        Prints table of hyperparameters used in model.\n",
    "        \n",
    "    Returns\n",
    "    -------\n",
    "    model : classifier object\n",
    "        Model after fitting on training data.\n",
    "    \"\"\"\n",
    "    model.fit(X_train, y_train)\n",
    "    _eval_model(model, X_train, X_test, y_train, y_test, params=params)\n",
    "\n",
    "    return model"
   ]
  },
  {
   "cell_type": "code",
   "execution_count": 10,
   "metadata": {},
   "outputs": [
    {
     "name": "stdout",
     "output_type": "stream",
     "text": [
      "=== CLASSIFICATION REPORT - TRAINING DATA ===\n",
      "              precision    recall  f1-score   support\n",
      "\n",
      "           0     0.9780    0.9742    0.9761      6520\n",
      "           1     0.9742    0.9780    0.9761      6497\n",
      "\n",
      "    accuracy                         0.9761     13017\n",
      "   macro avg     0.9761    0.9761    0.9761     13017\n",
      "weighted avg     0.9761    0.9761    0.9761     13017\n",
      "\n",
      "=== CLASSIFICATION REPORT - TESTING DATA ===\n",
      "              precision    recall  f1-score   support\n",
      "\n",
      "           0     0.9816    0.9668    0.9741      1655\n",
      "           1     0.9662    0.9812    0.9736      1600\n",
      "\n",
      "    accuracy                         0.9739      3255\n",
      "   macro avg     0.9739    0.9740    0.9739      3255\n",
      "weighted avg     0.9740    0.9739    0.9739      3255\n",
      "\n",
      "=== CONFUSION MATRIX ===\n"
     ]
    },
    {
     "data": {
      "image/png": "[encoded data removed]",
      "text/plain": [
       "<Figure size 360x360 with 2 Axes>"
      ]
     },
     "metadata": {
      "needs_background": "light"
     },
     "output_type": "display_data"
    }
   ],
   "source": [
    "baseline = fit_and_evaluate(\n",
    "    _define_baseline(), X_train, X_test, y_train, y_test)"
   ]
  },
  {
   "cell_type": "code",
   "execution_count": 11,
   "metadata": {},
   "outputs": [
    {
     "data": {
      "text/plain": [
       "{'cv': RepeatedStratifiedKFold(n_repeats=4, n_splits=10, random_state=42),\n",
       " 'error_score': nan,\n",
       " 'estimator__C': 1.0,\n",
       " 'estimator__class_weight': None,\n",
       " 'estimator__dual': False,\n",
       " 'estimator__fit_intercept': True,\n",
       " 'estimator__intercept_scaling': 1,\n",
       " 'estimator__l1_ratio': None,\n",
       " 'estimator__max_iter': 100,\n",
       " 'estimator__multi_class': 'auto',\n",
       " 'estimator__n_jobs': None,\n",
       " 'estimator__penalty': 'l2',\n",
       " 'estimator__random_state': 42,\n",
       " 'estimator__solver': 'lbfgs',\n",
       " 'estimator__tol': 0.0001,\n",
       " 'estimator__verbose': 0,\n",
       " 'estimator__warm_start': False,\n",
       " 'estimator': LogisticRegression(random_state=42),\n",
       " 'n_jobs': None,\n",
       " 'param_grid': {'penalty': ['none', 'l2'],\n",
       "  'C': [0.1, 0.5, 1.0, 10, 100, 1000]},\n",
       " 'pre_dispatch': '2*n_jobs',\n",
       " 'refit': True,\n",
       " 'return_train_score': False,\n",
       " 'scoring': None,\n",
       " 'verbose': 0}"
      ]
     },
     "execution_count": 11,
     "metadata": {},
     "output_type": "execute_result"
    }
   ],
   "source": [
    "baseline.get_params()"
   ]
  }
 ],
 "metadata": {
  "kernelspec": {
   "display_name": "Python 3.9.12 ('base')",
   "language": "python",
   "name": "python3"
  },
  "language_info": {
   "codemirror_mode": {
    "name": "ipython",
    "version": 3
   },
   "file_extension": ".py",
   "mimetype": "text/x-python",
   "name": "python",
   "nbconvert_exporter": "python",
   "pygments_lexer": "ipython3",
   "version": "3.9.12"
  },
  "orig_nbformat": 4,
  "vscode": {
   "interpreter": {
    "hash": "112989f40982219f9c2133127490be09f86560db102a13a350eb86b01002b443"
   }
  }
 },
 "nbformat": 4,
 "nbformat_minor": 2
}
