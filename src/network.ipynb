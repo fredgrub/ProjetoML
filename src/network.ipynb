{
  "cells": [
    {
      "cell_type": "markdown",
      "source": [
        "# Treinamento com Neural Networks"
      ],
      "metadata": {
        "id": "OVau5ABJcUke"
      }
    },
    {
      "cell_type": "code",
      "execution_count": 89,
      "metadata": {
        "id": "FUvq_cW5uv9Z"
      },
      "outputs": [],
      "source": [
        "import numpy as np\n",
        "import pandas as pd\n",
        "import tensorflow as tf\n",
        "\n",
        "from sklearn.model_selection import train_test_split"
      ]
    },
    {
      "cell_type": "code",
      "execution_count": 90,
      "metadata": {
        "id": "CLwNzNpUlThm"
      },
      "outputs": [],
      "source": [
        "url='https://drive.google.com/file/d/1GXJpU1eAKFoGABsy2CnfaP5dSHaoxHTY/view?usp=sharing'\n",
        "url='https://drive.google.com/uc?id=' + url.split('/')[-2]\n",
        "raw_dataset = pd.read_csv(url)\n",
        "\n",
        "features = [\n",
        "    'win', 'firstBlood', 'firstTower', 'firstInhibitor',\n",
        "    'firstBaron', 'firstDragon', 'firstRiftHerald', 'towerKills',\n",
        "    'inhibitorKills', 'baronKills', 'dragonKills', 'riftHeraldKills',\n",
        "    'kills', 'deaths', 'assists', 'visionScore', 'csPerMin',\n",
        "    'goldPerMin', 'crowdControlTime'\n",
        "]\n",
        "\n",
        "to_drop_red  = ['red.' + feature for feature in features]\n",
        "to_drop_blue = ['blue.' + feature for feature in features]\n",
        "\n",
        "blue_dataset = raw_dataset.copy()\n",
        "blue_dataset.drop(to_drop_red, axis=1, inplace=True)\n",
        "\n",
        "red_dataset = raw_dataset.copy()\n",
        "red_dataset.drop(to_drop_blue, axis=1, inplace=True)\n"
      ]
    },
    {
      "cell_type": "code",
      "execution_count": 91,
      "metadata": {
        "id": "jvxNu_A7lXNf"
      },
      "outputs": [],
      "source": [
        "def split_90_10(df, target_name):\n",
        "    target = df[target_name]\n",
        "    features = df.drop(target_name, 1)\n",
        "    X_train, X_test, y_train, y_test = train_test_split(features, target, test_size=0.1, random_state=42)\n",
        "    return X_train, X_test, y_train, y_test\n",
        "\n",
        "def to_np(X_train, X_test, y_train, y_test):\n",
        "    X_train = X_train.to_numpy()\n",
        "    y_train = y_train.to_numpy()\n",
        "    X_test  = X_test.to_numpy()\n",
        "    y_test  = y_test.to_numpy()\n",
        "    return X_train, X_test, y_train, y_test"
      ]
    },
    {
      "cell_type": "code",
      "execution_count": 92,
      "metadata": {
        "colab": {
          "base_uri": "https://localhost:8080/"
        },
        "id": "TsSfajV9lY2k",
        "outputId": "58b53dd1-f7da-4a77-f691-8a2a0200636e"
      },
      "outputs": [
        {
          "output_type": "stream",
          "name": "stderr",
          "text": [
            "/usr/local/lib/python3.7/dist-packages/ipykernel_launcher.py:3: FutureWarning: In a future version of pandas all arguments of DataFrame.drop except for the argument 'labels' will be keyword-only\n",
            "  This is separate from the ipykernel package so we can avoid doing imports until\n"
          ]
        },
        {
          "output_type": "execute_result",
          "data": {
            "text/plain": [
              "(14644, 18)"
            ]
          },
          "metadata": {},
          "execution_count": 92
        }
      ],
      "source": [
        "X_train, X_test, y_train, y_test = split_90_10(blue_dataset, 'blue.win')\n",
        "X_train_np, X_test_np, y_train_np, y_test_np = to_np(X_train, X_test, y_train, y_test)\n",
        "\n",
        "X_train_np.shape"
      ]
    },
    {
      "cell_type": "markdown",
      "source": [
        "# O modelo da rede neural\n",
        "\n",
        "A rede neural é feita sobre o modelo sequencial do Keras e é constituída em: \n",
        "\n",
        "* Input Layer de 18 features.\n",
        "* 3 Hidden Layers com ativação *selu*.\n",
        "* Output Layer com apenas um neurônio (derrota = 0 | vitória = 1)\n",
        "\n",
        "Além disso, a função de perda é definida como *binary crossentropy* e o otimizador é *Adam*."
      ],
      "metadata": {
        "id": "81YgFTyTcMUM"
      }
    },
    {
      "cell_type": "markdown",
      "source": [
        "# Treinamento da rede neural\n",
        "\n",
        "Para treinar o modelo, os dados foram separados em 10% para teste e 90% para treino, com 10% destes para validação. Utilizamos a técnica de *Early Stopping* baseada no valor da função de perda no conjunto de validação e por isso que o número de épocas é alto.\n",
        "\n",
        "Quanto ao tamanho do batch, escolhemos 32 pois o tempo de computação é razoável e garante resultados com mais precisão."
      ],
      "metadata": {
        "id": "OVDgSdayhkBW"
      }
    },
    {
      "cell_type": "code",
      "execution_count": 93,
      "metadata": {
        "id": "D-bU1UqAlaPr"
      },
      "outputs": [],
      "source": [
        "def neural_network(verbose=False):\n",
        "  # Create a model\n",
        "  model = tf.keras.Sequential()\n",
        "\n",
        "  # Add layers\n",
        "  model.add(tf.keras.layers.Flatten(input_shape=(18,)))\n",
        "  model.add(tf.keras.layers.Dense(10, activation='selu'))\n",
        "  model.add(tf.keras.layers.Dense(10, activation='selu'))\n",
        "  model.add(tf.keras.layers.Dense(1, activation='sigmoid'))\n",
        "  model.compile(loss='binary_crossentropy', optimizer='Adam', metrics=['accuracy'])\n",
        "\n",
        "  # Fit model with early stopping\n",
        "  callback = tf.keras.callbacks.EarlyStopping(monitor='val_loss', patience=8)\n",
        "  model.fit(X_train_np, y_train_np, epochs=50, batch_size=32, validation_split=0.1,\n",
        "            callbacks=[callback], verbose=verbose)\n",
        "\n",
        "  # Test accuracy\n",
        "  if verbose: print('\\n')\n",
        "  _, accuracy = model.evaluate(X_test_np, y_test_np)\n",
        "  return accuracy*100"
      ]
    },
    {
      "cell_type": "markdown",
      "source": [
        "# Acurácia"
      ],
      "metadata": {
        "id": "7icTl8XImG-H"
      }
    },
    {
      "cell_type": "code",
      "execution_count": 94,
      "metadata": {
        "colab": {
          "base_uri": "https://localhost:8080/"
        },
        "id": "1pZ9J27Ro2pr",
        "outputId": "d2cb3dc5-e88d-4932-86a2-f03e7d9a31db"
      },
      "outputs": [
        {
          "output_type": "stream",
          "name": "stdout",
          "text": [
            "Epoch 1/50\n",
            "412/412 [==============================] - 2s 3ms/step - loss: 4.4735 - accuracy: 0.6136 - val_loss: 0.3490 - val_accuracy: 0.9522\n",
            "Epoch 2/50\n",
            "412/412 [==============================] - 1s 3ms/step - loss: 0.2404 - accuracy: 0.9524 - val_loss: 0.1769 - val_accuracy: 0.9625\n",
            "Epoch 3/50\n",
            "412/412 [==============================] - 1s 2ms/step - loss: 0.1457 - accuracy: 0.9638 - val_loss: 0.1107 - val_accuracy: 0.9706\n",
            "Epoch 4/50\n",
            "412/412 [==============================] - 1s 3ms/step - loss: 0.1139 - accuracy: 0.9670 - val_loss: 0.1068 - val_accuracy: 0.9706\n",
            "Epoch 5/50\n",
            "412/412 [==============================] - 1s 3ms/step - loss: 0.0976 - accuracy: 0.9694 - val_loss: 0.0788 - val_accuracy: 0.9720\n",
            "Epoch 6/50\n",
            "412/412 [==============================] - 1s 3ms/step - loss: 0.0978 - accuracy: 0.9674 - val_loss: 0.0982 - val_accuracy: 0.9666\n",
            "Epoch 7/50\n",
            "412/412 [==============================] - 1s 3ms/step - loss: 0.0924 - accuracy: 0.9674 - val_loss: 0.1022 - val_accuracy: 0.9625\n",
            "Epoch 8/50\n",
            "412/412 [==============================] - 1s 2ms/step - loss: 0.0925 - accuracy: 0.9671 - val_loss: 0.0861 - val_accuracy: 0.9672\n",
            "Epoch 9/50\n",
            "412/412 [==============================] - 1s 3ms/step - loss: 0.0895 - accuracy: 0.9690 - val_loss: 0.0625 - val_accuracy: 0.9727\n",
            "Epoch 10/50\n",
            "412/412 [==============================] - 1s 3ms/step - loss: 0.0895 - accuracy: 0.9687 - val_loss: 0.1529 - val_accuracy: 0.9433\n",
            "Epoch 11/50\n",
            "412/412 [==============================] - 1s 3ms/step - loss: 0.0878 - accuracy: 0.9678 - val_loss: 0.0637 - val_accuracy: 0.9775\n",
            "Epoch 12/50\n",
            "412/412 [==============================] - 1s 3ms/step - loss: 0.0848 - accuracy: 0.9700 - val_loss: 0.0795 - val_accuracy: 0.9720\n",
            "Epoch 13/50\n",
            "412/412 [==============================] - 1s 2ms/step - loss: 0.0860 - accuracy: 0.9706 - val_loss: 0.0598 - val_accuracy: 0.9768\n",
            "Epoch 14/50\n",
            "412/412 [==============================] - 1s 3ms/step - loss: 0.0841 - accuracy: 0.9710 - val_loss: 0.0634 - val_accuracy: 0.9754\n",
            "Epoch 15/50\n",
            "412/412 [==============================] - 1s 3ms/step - loss: 0.0902 - accuracy: 0.9672 - val_loss: 0.0597 - val_accuracy: 0.9741\n",
            "Epoch 16/50\n",
            "412/412 [==============================] - 1s 3ms/step - loss: 0.0874 - accuracy: 0.9684 - val_loss: 0.0620 - val_accuracy: 0.9782\n",
            "Epoch 17/50\n",
            "412/412 [==============================] - 1s 3ms/step - loss: 0.0847 - accuracy: 0.9702 - val_loss: 0.0578 - val_accuracy: 0.9782\n",
            "Epoch 18/50\n",
            "412/412 [==============================] - 1s 3ms/step - loss: 0.0843 - accuracy: 0.9703 - val_loss: 0.0707 - val_accuracy: 0.9727\n",
            "Epoch 19/50\n",
            "412/412 [==============================] - 1s 3ms/step - loss: 0.0845 - accuracy: 0.9709 - val_loss: 0.0677 - val_accuracy: 0.9741\n",
            "Epoch 20/50\n",
            "412/412 [==============================] - 1s 2ms/step - loss: 0.0900 - accuracy: 0.9652 - val_loss: 0.0713 - val_accuracy: 0.9747\n",
            "Epoch 21/50\n",
            "412/412 [==============================] - 1s 2ms/step - loss: 0.0834 - accuracy: 0.9703 - val_loss: 0.0709 - val_accuracy: 0.9727\n",
            "Epoch 22/50\n",
            "412/412 [==============================] - 1s 2ms/step - loss: 0.0844 - accuracy: 0.9705 - val_loss: 0.0552 - val_accuracy: 0.9809\n",
            "Epoch 23/50\n",
            "412/412 [==============================] - 1s 2ms/step - loss: 0.0821 - accuracy: 0.9700 - val_loss: 0.0557 - val_accuracy: 0.9795\n",
            "Epoch 24/50\n",
            "412/412 [==============================] - 1s 2ms/step - loss: 0.0793 - accuracy: 0.9715 - val_loss: 0.0620 - val_accuracy: 0.9768\n",
            "Epoch 25/50\n",
            "412/412 [==============================] - 1s 2ms/step - loss: 0.0836 - accuracy: 0.9707 - val_loss: 0.0896 - val_accuracy: 0.9666\n",
            "Epoch 26/50\n",
            "412/412 [==============================] - 1s 3ms/step - loss: 0.0806 - accuracy: 0.9714 - val_loss: 0.0559 - val_accuracy: 0.9775\n",
            "Epoch 27/50\n",
            "412/412 [==============================] - 1s 2ms/step - loss: 0.0814 - accuracy: 0.9691 - val_loss: 0.1060 - val_accuracy: 0.9652\n",
            "Epoch 28/50\n",
            "412/412 [==============================] - 1s 2ms/step - loss: 0.0861 - accuracy: 0.9690 - val_loss: 0.0633 - val_accuracy: 0.9720\n",
            "Epoch 29/50\n",
            "412/412 [==============================] - 1s 3ms/step - loss: 0.0785 - accuracy: 0.9696 - val_loss: 0.0670 - val_accuracy: 0.9713\n",
            "Epoch 30/50\n",
            "412/412 [==============================] - 1s 2ms/step - loss: 0.0811 - accuracy: 0.9712 - val_loss: 0.1829 - val_accuracy: 0.9358\n",
            "\n",
            "\n",
            "51/51 [==============================] - 0s 2ms/step - loss: 0.2451 - accuracy: 0.9232\n"
          ]
        },
        {
          "output_type": "execute_result",
          "data": {
            "text/plain": [
              "92.32186675071716"
            ]
          },
          "metadata": {},
          "execution_count": 94
        }
      ],
      "source": [
        "neural_network(verbose=True)"
      ]
    },
    {
      "cell_type": "markdown",
      "source": [
        "# Resultados\n",
        "\n",
        "**A rede neural apresenta acurácia média de 96.6%.**\n",
        "\n",
        "Abaixo está uma pequena confirmação de que o resultado da rede não foi escolhido à mão."
      ],
      "metadata": {
        "id": "Ej3lSlrZmNAc"
      }
    },
    {
      "cell_type": "code",
      "execution_count": 95,
      "metadata": {
        "id": "IsdaBllZrTwU",
        "colab": {
          "base_uri": "https://localhost:8080/"
        },
        "outputId": "f044c3fa-cf02-4632-ab6e-3ea67a7e1c75"
      },
      "outputs": [
        {
          "output_type": "stream",
          "name": "stdout",
          "text": [
            "51/51 [==============================] - 0s 2ms/step - loss: 0.0990 - accuracy: 0.9656\n",
            "51/51 [==============================] - 0s 2ms/step - loss: 0.0888 - accuracy: 0.9711\n",
            "51/51 [==============================] - 0s 2ms/step - loss: 0.0951 - accuracy: 0.9742\n",
            "51/51 [==============================] - 0s 2ms/step - loss: 0.0905 - accuracy: 0.9693\n",
            "51/51 [==============================] - 0s 2ms/step - loss: 0.0743 - accuracy: 0.9736\n",
            "51/51 [==============================] - 0s 2ms/step - loss: 0.0833 - accuracy: 0.9687\n",
            "51/51 [==============================] - 0s 2ms/step - loss: 0.0956 - accuracy: 0.9644\n",
            "51/51 [==============================] - 0s 2ms/step - loss: 0.1052 - accuracy: 0.9662\n",
            "51/51 [==============================] - 0s 2ms/step - loss: 0.1370 - accuracy: 0.9521\n",
            "51/51 [==============================] - 0s 2ms/step - loss: 0.1067 - accuracy: 0.9564\n",
            "Mean: 96.615% | Std: 0.676%\n"
          ]
        }
      ],
      "source": [
        "r = 10\n",
        "acc = [neural_network() for _ in range(r)]\n",
        "print(f'Mean: {np.mean(acc):.3f}% | Std: {np.std(acc):.3f}%')"
      ]
    }
  ],
  "metadata": {
    "colab": {
      "name": "mlprojeto.ipynb",
      "provenance": [],
      "collapsed_sections": []
    },
    "gpuClass": "standard",
    "kernelspec": {
      "display_name": "Python 3",
      "name": "python3"
    },
    "language_info": {
      "name": "python"
    }
  },
  "nbformat": 4,
  "nbformat_minor": 0
}