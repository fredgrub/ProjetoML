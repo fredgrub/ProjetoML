{
  "cells": [
    {
      "cell_type": "markdown",
      "source": [
        "# Treinamento com Neural Networks"
      ],
      "metadata": {
        "id": "OVau5ABJcUke"
      }
    },
    {
      "cell_type": "code",
      "execution_count": 1,
      "metadata": {
        "id": "FUvq_cW5uv9Z"
      },
      "outputs": [],
      "source": [
        "import numpy as np\n",
        "import pandas as pd\n",
        "import seaborn as sn\n",
        "import tensorflow as tf\n",
        "import matplotlib.pyplot as plt\n",
        "\n",
        "from tensorflow.keras import layers\n",
        "from tensorflow.keras import regularizers\n",
        "\n",
        "from sklearn.metrics import confusion_matrix\n",
        "from sklearn.metrics import classification_report\n",
        "from sklearn.model_selection import train_test_split"
      ]
    },
    {
      "cell_type": "code",
      "execution_count": 2,
      "metadata": {
        "id": "CLwNzNpUlThm"
      },
      "outputs": [],
      "source": [
        "url='https://drive.google.com/file/d/1GXJpU1eAKFoGABsy2CnfaP5dSHaoxHTY/view?usp=sharing'\n",
        "url='https://drive.google.com/uc?id=' + url.split('/')[-2]\n",
        "raw_dataset = pd.read_csv(url)\n",
        "\n",
        "features = [\n",
        "    'win', 'firstBlood', 'firstTower', 'firstInhibitor',\n",
        "    'firstBaron', 'firstDragon', 'firstRiftHerald', 'towerKills',\n",
        "    'inhibitorKills', 'baronKills', 'dragonKills', 'riftHeraldKills',\n",
        "    'kills', 'deaths', 'assists', 'visionScore', 'csPerMin',\n",
        "    'goldPerMin', 'crowdControlTime'\n",
        "]\n",
        "\n",
        "to_drop_red  = ['red.' + feature for feature in features]\n",
        "\n",
        "blue_dataset = raw_dataset.copy()\n",
        "blue_dataset.drop(to_drop_red, axis=1, inplace=True)"
      ]
    },
    {
      "cell_type": "code",
      "execution_count": 3,
      "metadata": {
        "id": "jvxNu_A7lXNf"
      },
      "outputs": [],
      "source": [
        "def split_80_20(df, target_name):\n",
        "    target = df[target_name]\n",
        "    features = df.drop(target_name, 1)\n",
        "    X_train, X_test, y_train, y_test = train_test_split(features, target, test_size=0.2, random_state=42)\n",
        "    return X_train, X_test, y_train, y_test\n",
        "\n",
        "def to_np(X_train, X_test, y_train, y_test):\n",
        "    X_train = X_train.to_numpy()\n",
        "    y_train = y_train.to_numpy()\n",
        "    X_test  = X_test.to_numpy()\n",
        "    y_test  = y_test.to_numpy()\n",
        "    return X_train, X_test, y_train, y_test"
      ]
    },
    {
      "cell_type": "code",
      "execution_count": null,
      "metadata": {
        "id": "TsSfajV9lY2k"
      },
      "outputs": [],
      "source": [
        "X_train, X_test, y_train, y_test = split_80_20(blue_dataset, 'blue.win')\n",
        "X_train_np, X_test_np, y_train_np, y_test_np = to_np(X_train, X_test, y_train, y_test)"
      ]
    },
    {
      "cell_type": "code",
      "source": [
        "print(X_train_np.shape)\n",
        "print(y_train_np.shape)"
      ],
      "metadata": {
        "colab": {
          "base_uri": "https://localhost:8080/"
        },
        "id": "mGkW4WIxqIkY",
        "outputId": "97ff2c1c-0914-42ac-d90d-d8792476384a"
      },
      "execution_count": 5,
      "outputs": [
        {
          "output_type": "stream",
          "name": "stdout",
          "text": [
            "(13017, 18)\n",
            "(13017,)\n"
          ]
        }
      ]
    },
    {
      "cell_type": "markdown",
      "source": [
        "# O modelo da rede neural\n",
        "\n",
        "A rede neural é feita sobre o modelo sequencial do Keras e é constituída em: \n",
        "\n",
        "* Input Layer de 18 features.\n",
        "* 3 Hidden Layers com ativação *selu*.\n",
        "* Output Layer com apenas um neurônio (derrota = 0 | vitória = 1)\n",
        "\n",
        "Além disso, a função de perda é definida como *binary crossentropy* e o otimizador é *Adam*."
      ],
      "metadata": {
        "id": "81YgFTyTcMUM"
      }
    },
    {
      "cell_type": "markdown",
      "source": [
        "# Treinamento da rede neural\n",
        "\n",
        "Para treinar o modelo, os dados foram separados em 20% para teste e 80% para treino, com 10% destes para validação. Utilizamos a técnica de *Early Stopping* baseada no valor da função de perda no conjunto de validação e por isso que o número de épocas é alto.\n",
        "\n",
        "Quanto ao tamanho do batch, escolhemos 32 pois o tempo de computação é razoável e garante resultados com mais precisão."
      ],
      "metadata": {
        "id": "OVDgSdayhkBW"
      }
    },
    {
      "cell_type": "code",
      "execution_count": 6,
      "metadata": {
        "id": "D-bU1UqAlaPr"
      },
      "outputs": [],
      "source": [
        "def neural_network(verbose=False, C=0):\n",
        "  # Create a model\n",
        "  model = tf.keras.Sequential()\n",
        "\n",
        "  # Add layers\n",
        "  model.add(layers.Flatten(input_shape=(18,)))\n",
        "  model.add(layers.Dense(10, activation='selu',\n",
        "                         kernel_regularizer=regularizers.L2(C)))\n",
        "  model.add(layers.Dense(10, activation='selu',\n",
        "                         kernel_regularizer=regularizers.L2(C)))\n",
        "  model.add(layers.Dense(1, activation='sigmoid'))\n",
        "  model.compile(loss='binary_crossentropy', optimizer='Adam',\n",
        "                metrics=[tf.keras.metrics.Precision(),\n",
        "                         tf.keras.metrics.Recall(),\n",
        "                         'accuracy'])\n",
        "\n",
        "  # Fit model with early stopping\n",
        "  callback = tf.keras.callbacks.EarlyStopping(monitor='val_loss', patience=8)\n",
        "  model.fit(X_train_np, y_train_np, epochs=50, batch_size=32, validation_split=0.1,\n",
        "            callbacks=[callback], verbose=verbose)\n",
        "\n",
        "  # Test\n",
        "  if verbose: print('\\n')\n",
        "  y_prediction = model.predict(X_test_np)\n",
        "\n",
        "  _, precision, recall, accuracy = model.evaluate(X_test_np, y_test_np)\n",
        "  return y_prediction, precision, recall, accuracy"
      ]
    },
    {
      "cell_type": "markdown",
      "source": [
        "# Exemplo de execução"
      ],
      "metadata": {
        "id": "7icTl8XImG-H"
      }
    },
    {
      "cell_type": "code",
      "execution_count": 7,
      "metadata": {
        "colab": {
          "base_uri": "https://localhost:8080/"
        },
        "id": "1pZ9J27Ro2pr",
        "outputId": "8fabfedd-6db2-4db9-f802-d38030b56ae0"
      },
      "outputs": [
        {
          "output_type": "stream",
          "name": "stdout",
          "text": [
            "Epoch 1/50\n",
            "367/367 [==============================] - 5s 7ms/step - loss: 42.6788 - precision: 0.6074 - recall: 0.7294 - accuracy: 0.6311 - val_loss: 0.6385 - val_precision: 0.8865 - val_recall: 0.7902 - val_accuracy: 0.8395\n",
            "Epoch 2/50\n",
            "367/367 [==============================] - 2s 5ms/step - loss: 0.3853 - precision: 0.8931 - recall: 0.8908 - accuracy: 0.8927 - val_loss: 0.1878 - val_precision: 0.9379 - val_recall: 0.9435 - val_accuracy: 0.9386\n",
            "Epoch 3/50\n",
            "367/367 [==============================] - 2s 5ms/step - loss: 0.1976 - precision: 0.9351 - recall: 0.9379 - accuracy: 0.9367 - val_loss: 0.1407 - val_precision: 0.9359 - val_recall: 0.9777 - val_accuracy: 0.9539\n",
            "Epoch 4/50\n",
            "367/367 [==============================] - 2s 5ms/step - loss: 0.1511 - precision: 0.9492 - recall: 0.9502 - accuracy: 0.9500 - val_loss: 0.1104 - val_precision: 0.9546 - val_recall: 0.9702 - val_accuracy: 0.9608\n",
            "Epoch 5/50\n",
            "367/367 [==============================] - 2s 4ms/step - loss: 0.1321 - precision: 0.9557 - recall: 0.9555 - accuracy: 0.9559 - val_loss: 0.1159 - val_precision: 0.9845 - val_recall: 0.9479 - val_accuracy: 0.9654\n",
            "Epoch 6/50\n",
            "367/367 [==============================] - 2s 6ms/step - loss: 0.1316 - precision: 0.9563 - recall: 0.9583 - accuracy: 0.9575 - val_loss: 0.0852 - val_precision: 0.9788 - val_recall: 0.9613 - val_accuracy: 0.9693\n",
            "Epoch 7/50\n",
            "367/367 [==============================] - 2s 6ms/step - loss: 0.1239 - precision: 0.9563 - recall: 0.9583 - accuracy: 0.9575 - val_loss: 0.1491 - val_precision: 0.9919 - val_recall: 0.9152 - val_accuracy: 0.9524\n",
            "Epoch 8/50\n",
            "367/367 [==============================] - 2s 5ms/step - loss: 0.1283 - precision: 0.9578 - recall: 0.9595 - accuracy: 0.9589 - val_loss: 0.0783 - val_precision: 0.9803 - val_recall: 0.9628 - val_accuracy: 0.9708\n",
            "Epoch 9/50\n",
            "367/367 [==============================] - 3s 7ms/step - loss: 0.1112 - precision: 0.9616 - recall: 0.9627 - accuracy: 0.9624 - val_loss: 0.1155 - val_precision: 0.9355 - val_recall: 0.9926 - val_accuracy: 0.9608\n",
            "Epoch 10/50\n",
            "367/367 [==============================] - 2s 5ms/step - loss: 0.1345 - precision: 0.9547 - recall: 0.9555 - accuracy: 0.9554 - val_loss: 0.0807 - val_precision: 0.9676 - val_recall: 0.9792 - val_accuracy: 0.9724\n",
            "Epoch 11/50\n",
            "367/367 [==============================] - 2s 5ms/step - loss: 0.1051 - precision: 0.9664 - recall: 0.9667 - accuracy: 0.9667 - val_loss: 0.1355 - val_precision: 0.9251 - val_recall: 0.9926 - val_accuracy: 0.9547\n",
            "Epoch 12/50\n",
            "367/367 [==============================] - 1s 2ms/step - loss: 0.1245 - precision: 0.9570 - recall: 0.9588 - accuracy: 0.9581 - val_loss: 0.1039 - val_precision: 0.9922 - val_recall: 0.9449 - val_accuracy: 0.9677\n",
            "Epoch 13/50\n",
            "367/367 [==============================] - 1s 2ms/step - loss: 0.1101 - precision: 0.9643 - recall: 0.9652 - accuracy: 0.9649 - val_loss: 0.1240 - val_precision: 0.9936 - val_recall: 0.9241 - val_accuracy: 0.9578\n",
            "Epoch 14/50\n",
            "367/367 [==============================] - 1s 2ms/step - loss: 0.1288 - precision: 0.9559 - recall: 0.9569 - accuracy: 0.9566 - val_loss: 0.0730 - val_precision: 0.9719 - val_recall: 0.9777 - val_accuracy: 0.9739\n",
            "Epoch 15/50\n",
            "367/367 [==============================] - 1s 2ms/step - loss: 0.1178 - precision: 0.9633 - recall: 0.9648 - accuracy: 0.9642 - val_loss: 0.2334 - val_precision: 0.9965 - val_recall: 0.8586 - val_accuracy: 0.9255\n",
            "Epoch 16/50\n",
            "367/367 [==============================] - 1s 2ms/step - loss: 0.1111 - precision: 0.9652 - recall: 0.9631 - accuracy: 0.9644 - val_loss: 0.0780 - val_precision: 0.9863 - val_recall: 0.9658 - val_accuracy: 0.9754\n",
            "Epoch 17/50\n",
            "367/367 [==============================] - 1s 2ms/step - loss: 0.1195 - precision: 0.9625 - recall: 0.9614 - accuracy: 0.9622 - val_loss: 0.0730 - val_precision: 0.9705 - val_recall: 0.9777 - val_accuracy: 0.9731\n",
            "Epoch 18/50\n",
            "367/367 [==============================] - 1s 2ms/step - loss: 0.1059 - precision: 0.9647 - recall: 0.9652 - accuracy: 0.9651 - val_loss: 0.0708 - val_precision: 0.9790 - val_recall: 0.9702 - val_accuracy: 0.9739\n",
            "Epoch 19/50\n",
            "367/367 [==============================] - 1s 2ms/step - loss: 0.1254 - precision: 0.9615 - recall: 0.9607 - accuracy: 0.9613 - val_loss: 0.0699 - val_precision: 0.9706 - val_recall: 0.9836 - val_accuracy: 0.9762\n",
            "Epoch 20/50\n",
            "367/367 [==============================] - 1s 2ms/step - loss: 0.1107 - precision: 0.9648 - recall: 0.9650 - accuracy: 0.9651 - val_loss: 0.0768 - val_precision: 0.9878 - val_recall: 0.9643 - val_accuracy: 0.9754\n",
            "Epoch 21/50\n",
            "367/367 [==============================] - 1s 2ms/step - loss: 0.0965 - precision: 0.9698 - recall: 0.9698 - accuracy: 0.9700 - val_loss: 0.0796 - val_precision: 0.9908 - val_recall: 0.9598 - val_accuracy: 0.9747\n",
            "Epoch 22/50\n",
            "367/367 [==============================] - 1s 2ms/step - loss: 0.1286 - precision: 0.9617 - recall: 0.9610 - accuracy: 0.9616 - val_loss: 0.0727 - val_precision: 0.9636 - val_recall: 0.9851 - val_accuracy: 0.9731\n",
            "Epoch 23/50\n",
            "367/367 [==============================] - 1s 2ms/step - loss: 0.1107 - precision: 0.9647 - recall: 0.9658 - accuracy: 0.9654 - val_loss: 0.0917 - val_precision: 0.9486 - val_recall: 0.9881 - val_accuracy: 0.9662\n",
            "Epoch 24/50\n",
            "367/367 [==============================] - 1s 2ms/step - loss: 0.1109 - precision: 0.9624 - recall: 0.9662 - accuracy: 0.9644 - val_loss: 0.0719 - val_precision: 0.9662 - val_recall: 0.9792 - val_accuracy: 0.9716\n",
            "Epoch 25/50\n",
            "367/367 [==============================] - 1s 2ms/step - loss: 0.1096 - precision: 0.9643 - recall: 0.9686 - accuracy: 0.9665 - val_loss: 0.1167 - val_precision: 0.9936 - val_recall: 0.9271 - val_accuracy: 0.9593\n",
            "Epoch 26/50\n",
            "367/367 [==============================] - 1s 2ms/step - loss: 0.1121 - precision: 0.9629 - recall: 0.9662 - accuracy: 0.9647 - val_loss: 0.0686 - val_precision: 0.9834 - val_recall: 0.9702 - val_accuracy: 0.9762\n",
            "Epoch 27/50\n",
            "367/367 [==============================] - 1s 2ms/step - loss: 0.1242 - precision: 0.9616 - recall: 0.9631 - accuracy: 0.9625 - val_loss: 0.0882 - val_precision: 0.9553 - val_recall: 0.9866 - val_accuracy: 0.9693\n",
            "Epoch 28/50\n",
            "367/367 [==============================] - 1s 2ms/step - loss: 0.1080 - precision: 0.9645 - recall: 0.9669 - accuracy: 0.9659 - val_loss: 0.1353 - val_precision: 0.9936 - val_recall: 0.9196 - val_accuracy: 0.9555\n",
            "Epoch 29/50\n",
            "367/367 [==============================] - 1s 2ms/step - loss: 0.1100 - precision: 0.9657 - recall: 0.9653 - accuracy: 0.9657 - val_loss: 0.0838 - val_precision: 0.9908 - val_recall: 0.9583 - val_accuracy: 0.9739\n",
            "Epoch 30/50\n",
            "367/367 [==============================] - 1s 2ms/step - loss: 0.1002 - precision: 0.9681 - recall: 0.9700 - accuracy: 0.9692 - val_loss: 0.1168 - val_precision: 0.9340 - val_recall: 0.9896 - val_accuracy: 0.9585\n",
            "Epoch 31/50\n",
            "367/367 [==============================] - 1s 2ms/step - loss: 0.1057 - precision: 0.9662 - recall: 0.9664 - accuracy: 0.9665 - val_loss: 0.1001 - val_precision: 0.9922 - val_recall: 0.9449 - val_accuracy: 0.9677\n",
            "Epoch 32/50\n",
            "367/367 [==============================] - 1s 2ms/step - loss: 0.1082 - precision: 0.9660 - recall: 0.9645 - accuracy: 0.9654 - val_loss: 0.0726 - val_precision: 0.9878 - val_recall: 0.9658 - val_accuracy: 0.9762\n",
            "Epoch 33/50\n",
            "367/367 [==============================] - 1s 2ms/step - loss: 0.1109 - precision: 0.9631 - recall: 0.9638 - accuracy: 0.9636 - val_loss: 0.0795 - val_precision: 0.9580 - val_recall: 0.9851 - val_accuracy: 0.9700\n",
            "Epoch 34/50\n",
            "367/367 [==============================] - 1s 2ms/step - loss: 0.1207 - precision: 0.9605 - recall: 0.9634 - accuracy: 0.9621 - val_loss: 0.0880 - val_precision: 0.9527 - val_recall: 0.9881 - val_accuracy: 0.9685\n",
            "\n",
            "\n",
            "102/102 [==============================] - 0s 2ms/step - loss: 0.1259 - precision: 0.9347 - recall: 0.9925 - accuracy: 0.9622\n"
          ]
        }
      ],
      "source": [
        "y_prediction, precision, recall, accuracy = neural_network(verbose=True)"
      ]
    },
    {
      "cell_type": "markdown",
      "source": [
        "# Rede neural com regularização"
      ],
      "metadata": {
        "id": "oep59Bs9uMmC"
      }
    },
    {
      "cell_type": "code",
      "source": [
        "def conf_mat(prediction):\n",
        "  \"\"\" Plotar matriz de confusão \"\"\"\n",
        "  for i in range(len(prediction)):\n",
        "    prediction[i] = 0 if prediction[i] < 0.5 else 1\n",
        "  \n",
        "  result = confusion_matrix(y_test_np, prediction, normalize='pred')\n",
        "  df2 = pd.DataFrame(result, index = [0,1], columns = [0,1])\n",
        "  plt.figure(figsize = (8,6))\n",
        "  ax = sn.heatmap(df2, annot=True, cmap='Purples', linewidths=1, linecolor='black')\n",
        "  ax.set(xlabel='True label', ylabel='Predicted label', title='Confusion Matrix')\n",
        "  plt.show()"
      ],
      "metadata": {
        "id": "UGUzaui97J1q"
      },
      "execution_count": 8,
      "outputs": []
    },
    {
      "cell_type": "code",
      "source": [
        "C = [0, 0.001, 0.01, 0.1, 1.0, 10]\n",
        "N = 5"
      ],
      "metadata": {
        "id": "txaBRoygrOnM"
      },
      "execution_count": 9,
      "outputs": []
    },
    {
      "cell_type": "markdown",
      "source": [
        "Como criar uma rede neural reproduzível é relativamente complicado e pode apresentar resultados inesperadamente divergentes dependendo da inicialização dos pesos, pegaremos a média de N medidas para avaliar a regularização."
      ],
      "metadata": {
        "id": "SN9ONyBbvxA2"
      }
    },
    {
      "cell_type": "code",
      "source": [
        "pred_arr = [None for _ in range(len(C))]\n",
        "P, R, A = [], [], []\n",
        "\n",
        "for c in range(len(C)):\n",
        "    print(f\"c: {C[c]}\")\n",
        "    best_acc = 0\n",
        "    p, r, a = [], [], []\n",
        "    \n",
        "    for _ in range(N):\n",
        "      prediction, precision, recall, accuracy = neural_network(C=C[c])\n",
        "      p.append(precision)\n",
        "      r.append(recall)\n",
        "      a.append(accuracy)\n",
        "\n",
        "      if accuracy >= best_acc:\n",
        "        best_acc = accuracy\n",
        "        pred_arr[c] = prediction\n",
        "\n",
        "    P.append(np.mean(p))\n",
        "    R.append(np.mean(r))\n",
        "    A.append(np.mean(a))\n",
        "    print()\n",
        "    print(f\"Mean & Std\")\n",
        "    print(f\"Precision: {np.mean(p):.5f} & {np.std(p):.4f}\")\n",
        "    print(f\"Recall:    {np.mean(r):.5f} & {np.std(r):.4f}\")\n",
        "    print(f\"Accuracy:  {np.mean(a):.5f} & {np.std(a):.4f}\")\n",
        "    print()"
      ],
      "metadata": {
        "colab": {
          "base_uri": "https://localhost:8080/"
        },
        "id": "lcFVfdADsTJa",
        "outputId": "71713d2c-9604-45eb-e3de-e114e14c7341"
      },
      "execution_count": 10,
      "outputs": [
        {
          "output_type": "stream",
          "name": "stdout",
          "text": [
            "c: 0\n",
            "102/102 [==============================] - 0s 2ms/step - loss: 0.1123 - precision_1: 0.9385 - recall_1: 0.9919 - accuracy: 0.9641\n",
            "102/102 [==============================] - 0s 2ms/step - loss: 0.0706 - precision_2: 0.9697 - recall_2: 0.9800 - accuracy: 0.9751\n",
            "102/102 [==============================] - 0s 1ms/step - loss: 0.1049 - precision_3: 0.9424 - recall_3: 0.9919 - accuracy: 0.9662\n",
            "102/102 [==============================] - 0s 2ms/step - loss: 0.0719 - precision_4: 0.9761 - recall_4: 0.9694 - accuracy: 0.9733\n",
            "102/102 [==============================] - 0s 2ms/step - loss: 0.0691 - precision_5: 0.9697 - recall_5: 0.9787 - accuracy: 0.9745\n",
            "\n",
            "Mean & Std\n",
            "Precision: 0.95927 & 0.0156\n",
            "Recall:    0.98238 & 0.0086\n",
            "Accuracy:  0.97063 & 0.0046\n",
            "\n",
            "c: 0.001\n",
            "102/102 [==============================] - 0s 1ms/step - loss: 0.3690 - precision_6: 0.8642 - recall_6: 0.9981 - accuracy: 0.9220\n",
            "102/102 [==============================] - 0s 1ms/step - loss: 0.1121 - precision_7: 0.9402 - recall_7: 0.9931 - accuracy: 0.9656\n",
            "102/102 [==============================] - 0s 2ms/step - loss: 0.1431 - precision_8: 0.9931 - recall_8: 0.9056 - accuracy: 0.9505\n",
            "102/102 [==============================] - 0s 1ms/step - loss: 0.0934 - precision_9: 0.9530 - recall_9: 0.9894 - accuracy: 0.9708\n",
            "102/102 [==============================] - 0s 2ms/step - loss: 0.1487 - precision_10: 0.9931 - recall_10: 0.9025 - accuracy: 0.9490\n",
            "\n",
            "Mean & Std\n",
            "Precision: 0.94874 & 0.0473\n",
            "Recall:    0.95775 & 0.0439\n",
            "Accuracy:  0.95158 & 0.0170\n",
            "\n",
            "c: 0.01\n",
            "102/102 [==============================] - 0s 2ms/step - loss: 0.1593 - precision_11: 0.9457 - recall_11: 0.9912 - accuracy: 0.9677\n",
            "102/102 [==============================] - 0s 2ms/step - loss: 0.3031 - precision_12: 0.8741 - recall_12: 0.9981 - accuracy: 0.9284\n",
            "102/102 [==============================] - 0s 1ms/step - loss: 0.1308 - precision_13: 0.9473 - recall_13: 0.9894 - accuracy: 0.9677\n",
            "102/102 [==============================] - 0s 1ms/step - loss: 0.1604 - precision_14: 0.9213 - recall_14: 0.9944 - accuracy: 0.9555\n",
            "102/102 [==============================] - 0s 1ms/step - loss: 0.1537 - precision_15: 0.9369 - recall_15: 0.9937 - accuracy: 0.9641\n",
            "\n",
            "Mean & Std\n",
            "Precision: 0.92508 & 0.0271\n",
            "Recall:    0.99337 & 0.0030\n",
            "Accuracy:  0.95668 & 0.0148\n",
            "\n",
            "c: 0.1\n",
            "102/102 [==============================] - 0s 2ms/step - loss: 0.2196 - precision_16: 0.9601 - recall_16: 0.9781 - accuracy: 0.9693\n",
            "102/102 [==============================] - 0s 2ms/step - loss: 0.2078 - precision_17: 0.9253 - recall_17: 0.9906 - accuracy: 0.9561\n",
            "102/102 [==============================] - 0s 2ms/step - loss: 0.1907 - precision_18: 0.9862 - recall_18: 0.9394 - accuracy: 0.9637\n",
            "102/102 [==============================] - 0s 1ms/step - loss: 0.2245 - precision_19: 0.9487 - recall_19: 0.9831 - accuracy: 0.9656\n",
            "102/102 [==============================] - 0s 1ms/step - loss: 0.1918 - precision_20: 0.9715 - recall_20: 0.9581 - accuracy: 0.9656\n",
            "\n",
            "Mean & Std\n",
            "Precision: 0.95837 & 0.0207\n",
            "Recall:    0.96987 & 0.0187\n",
            "Accuracy:  0.96406 & 0.0044\n",
            "\n",
            "c: 1.0\n",
            "102/102 [==============================] - 0s 2ms/step - loss: 0.1850 - precision_21: 0.9236 - recall_21: 0.9900 - accuracy: 0.9548\n",
            "102/102 [==============================] - 0s 2ms/step - loss: 0.4172 - precision_22: 0.9951 - recall_22: 0.7656 - accuracy: 0.8829\n",
            "102/102 [==============================] - 0s 1ms/step - loss: 0.4741 - precision_23: 0.9630 - recall_23: 0.8956 - accuracy: 0.9318\n",
            "102/102 [==============================] - 0s 2ms/step - loss: 0.1729 - precision_24: 0.9385 - recall_24: 0.9831 - accuracy: 0.9601\n",
            "102/102 [==============================] - 0s 1ms/step - loss: 0.1722 - precision_25: 0.9674 - recall_25: 0.9631 - accuracy: 0.9659\n",
            "\n",
            "Mean & Std\n",
            "Precision: 0.95754 & 0.0247\n",
            "Recall:    0.91950 & 0.0839\n",
            "Accuracy:  0.93911 & 0.0304\n",
            "\n",
            "c: 10\n",
            "102/102 [==============================] - 0s 1ms/step - loss: 0.5352 - precision_26: 0.8116 - recall_26: 0.8669 - accuracy: 0.8356\n",
            "102/102 [==============================] - 0s 2ms/step - loss: 0.4372 - precision_27: 0.8281 - recall_27: 0.9906 - accuracy: 0.8943\n",
            "102/102 [==============================] - 0s 2ms/step - loss: 0.4765 - precision_28: 0.8547 - recall_28: 0.9194 - accuracy: 0.8836\n",
            "102/102 [==============================] - 0s 1ms/step - loss: 0.5435 - precision_29: 0.8125 - recall_29: 0.8450 - accuracy: 0.8280\n",
            "102/102 [==============================] - 0s 2ms/step - loss: 0.5505 - precision_30: 0.7949 - recall_30: 0.8650 - accuracy: 0.8240\n",
            "\n",
            "Mean & Std\n",
            "Precision: 0.82038 & 0.0201\n",
            "Recall:    0.89738 & 0.0527\n",
            "Accuracy:  0.85309 & 0.0297\n",
            "\n"
          ]
        }
      ]
    },
    {
      "cell_type": "code",
      "source": [
        "def i(arr):\n",
        "  return np.where(arr == np.amax(arr))[0][0]"
      ],
      "metadata": {
        "id": "slHQXb780aRF"
      },
      "execution_count": 16,
      "outputs": []
    },
    {
      "cell_type": "code",
      "source": [
        "# Choose best overall\n",
        "i = np.bincount([i(P), i(R), i(A)]).argmax()\n",
        "conf_mat(pred_arr[i])"
      ],
      "metadata": {
        "colab": {
          "base_uri": "https://localhost:8080/",
          "height": 404
        },
        "id": "U8p1RCaByhw9",
        "outputId": "aa845814-386b-4f69-a3dd-65b46ec1f3b2"
      },
      "execution_count": 17,
      "outputs": [
        {
          "output_type": "display_data",
          "data": {
            "text/plain": [
              "<Figure size 576x432 with 2 Axes>"
            ],
            "image/png": "[encoded data removed]"
          },
          "metadata": {
            "needs_background": "light"
          }
        }
      ]
    },
    {
      "cell_type": "code",
      "source": [
        "print(f\"C: {C[i]}\")\n",
        "print(f\"Precision: {P[i]:.5f}\")\n",
        "print(f\"Recall:    {R[i]:.5f}\")\n",
        "print(f\"Accuracy:  {A[i]:.5f}\")"
      ],
      "metadata": {
        "colab": {
          "base_uri": "https://localhost:8080/"
        },
        "id": "pqTqAPA-9cyj",
        "outputId": "5c93e28f-f236-446f-eac0-1dca3563b350"
      },
      "execution_count": 20,
      "outputs": [
        {
          "output_type": "stream",
          "name": "stdout",
          "text": [
            "C: 0\n",
            "Precision: 0.95927\n",
            "Recall:    0.98238\n",
            "Accuracy:  0.97063\n"
          ]
        }
      ]
    },
    {
      "cell_type": "markdown",
      "source": [
        "# Resultados\n",
        "\n",
        "A rede neural atingiu melhores resultados sem regularização com acurácia média de 97% e recall médio de 98% no conjunto de teste, o que apresenta aumento de performance de 5% comparado a baseline."
      ],
      "metadata": {
        "id": "Ej3lSlrZmNAc"
      }
    }
  ],
  "metadata": {
    "colab": {
      "name": "mlprojeto.ipynb",
      "provenance": [],
      "collapsed_sections": []
    },
    "gpuClass": "standard",
    "kernelspec": {
      "display_name": "Python 3",
      "name": "python3"
    },
    "language_info": {
      "name": "python"
    }
  },
  "nbformat": 4,
  "nbformat_minor": 0
}